{
 "cells": [
  {
   "cell_type": "code",
   "execution_count": 1,
   "metadata": {
    "collapsed": true
   },
   "outputs": [],
   "source": [
    "import sys\n",
    "sys.path.append('/Users/ardamavi/sci/')"
   ]
  },
  {
   "cell_type": "code",
   "execution_count": 2,
   "metadata": {
    "collapsed": true
   },
   "outputs": [],
   "source": [
    "from sklearn.neural_network import MLPClassifier"
   ]
  },
  {
   "cell_type": "code",
   "execution_count": 3,
   "metadata": {
    "collapsed": true
   },
   "outputs": [],
   "source": [
    "# [X1,X2,y] şeklinde gelen verileri X=[X1,X2] , y=[y] şekline çevirir:\n",
    "def veriler(list):\n",
    "    X = []\n",
    "    y = []\n",
    "    for i in list:\n",
    "        X.append([i[0],i[1]])\n",
    "        y.append(i[2])\n",
    "    return X,y"
   ]
  },
  {
   "cell_type": "code",
   "execution_count": 4,
   "metadata": {
    "collapsed": true
   },
   "outputs": [],
   "source": [
    "# Oluşturulmuş sinir ağlarını kullanarak sınıflandırma tahmini yapılması:\n",
    "def tahmin(list):\n",
    "    return clf.predict([list])[0]"
   ]
  },
  {
   "cell_type": "code",
   "execution_count": 5,
   "metadata": {
    "collapsed": false
   },
   "outputs": [],
   "source": [
    "# Sinir ağlarının oluşturulması:\n",
    "clf = MLPClassifier(solver='lbfgs', alpha=1e-5, hidden_layer_sizes=(3), activation='tanh', random_state=1)"
   ]
  },
  {
   "cell_type": "code",
   "execution_count": 6,
   "metadata": {
    "collapsed": false
   },
   "outputs": [],
   "source": [
    "# Verilerin girilmesi ve kullanılabilir düzene konulması:\n",
    "dataset = [[0,0,0],[0,-1,0],[-5,-5,0],[-1,-5,0],[0,1,1],[2,2,1],[0,4,1],[2,-0.4,1]]\n",
    "X, y = veriler(dataset)\n",
    "\n",
    "# Verilerin bir bölümü test için ayrılıyor:\n",
    "aralık = int(len(dataset)*0.8) # Verilerin 10'da 8'i eğitim için kullanılacak.\n",
    "X_egitim, X_test = X[:aralık], X[aralık:]\n",
    "y_egitim, y_test = y[:aralık], y[aralık:]\n",
    "\n",
    "# Sinir ağlarının eğitimi:\n",
    "clf = clf.fit(X_egitim, y_egitim)"
   ]
  },
  {
   "cell_type": "code",
   "execution_count": 7,
   "metadata": {
    "collapsed": false
   },
   "outputs": [
    {
     "name": "stdout",
     "output_type": "stream",
     "text": [
      "Eğitim Skoru: 1.0\n",
      "Test Skoru: 0.5\n"
     ]
    }
   ],
   "source": [
    "# Skor ölçümü:\n",
    "# Girilen değerler sonucunda sinir ağlarından çıkan tahminle, çıkması gereken sonucu karşılaştırılıyor:\n",
    "\n",
    "# Eğitim verisi ile skor ölçümü:\n",
    "print('Eğitim Skoru:', clf.score(X_egitim, y_egitim))\n",
    "\n",
    "# Test verisi(sinir ağlarının daha önce görmediği veriler) ile skor ölçümü:\n",
    "print('Test Skoru:', clf.score(X_test, y_test))"
   ]
  },
  {
   "cell_type": "code",
   "execution_count": 8,
   "metadata": {
    "collapsed": false
   },
   "outputs": [
    {
     "name": "stdout",
     "output_type": "stream",
     "text": [
      "Tahmin: 0\n"
     ]
    }
   ],
   "source": [
    "print('Tahmin:', tahmin([0.1,-0.1]))"
   ]
  }
 ],
 "metadata": {
  "kernelspec": {
   "display_name": "Python 3",
   "language": "python",
   "name": "python3"
  },
  "language_info": {
   "codemirror_mode": {
    "name": "ipython",
    "version": 3
   },
   "file_extension": ".py",
   "mimetype": "text/x-python",
   "name": "python",
   "nbconvert_exporter": "python",
   "pygments_lexer": "ipython3",
   "version": "3.6.0"
  }
 },
 "nbformat": 4,
 "nbformat_minor": 2
}
